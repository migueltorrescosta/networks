{
 "cells": [
  {
   "cell_type": "markdown",
   "metadata": {},
   "source": [
    "**Class:** C5.4 Networks\n",
    "\n",
    "**From:** Miguel Torres Costa\n",
    "\n",
    "**To:** Mr Michael Coughlan"
   ]
  },
  {
   "cell_type": "markdown",
   "metadata": {},
   "source": [
    "# All imports"
   ]
  },
  {
   "cell_type": "code",
   "execution_count": 1,
   "metadata": {},
   "outputs": [],
   "source": [
    "import numpy as np\n",
    "import networkx as nx\n",
    "import math\n",
    "import itertools\n",
    "import matplotlib.pyplot as plt\n",
    "import pandas as pd\n",
    "import seaborn as sns\n",
    "import itertools"
   ]
  },
  {
   "cell_type": "markdown",
   "metadata": {},
   "source": [
    "# Utils"
   ]
  },
  {
   "cell_type": "code",
   "execution_count": 2,
   "metadata": {},
   "outputs": [],
   "source": [
    "def draw(G,**kwargs):\n",
    "    print(\"Number of nodes: \" + str(len(G.nodes())))\n",
    "    if len(G)<40:\n",
    "        nx.draw_spring(G,\n",
    "                       node_size=400,\n",
    "                       with_labels=True)\n",
    "    else:\n",
    "        nx.draw_spring(G,\n",
    "                       node_size=.5,\n",
    "                       with_labels=False)       "
   ]
  },
  {
   "cell_type": "code",
   "execution_count": 3,
   "metadata": {},
   "outputs": [],
   "source": [
    "def create_undirected_graph(edges):\n",
    "    G=nx.Graph()\n",
    "    G.add_edges_from(edges)\n",
    "    return G"
   ]
  },
  {
   "cell_type": "code",
   "execution_count": 4,
   "metadata": {},
   "outputs": [],
   "source": [
    "def create_directed_graph(edges):\n",
    "    DG=nx.DiGraph()\n",
    "    DG.add_edges_from(edges)\n",
    "    return DG"
   ]
  },
  {
   "cell_type": "code",
   "execution_count": 5,
   "metadata": {},
   "outputs": [],
   "source": [
    "def load_graph_from_tsv(file):\n",
    "    f = open(\"datasets/\" + str(file),\"r\")\n",
    "    text = f.readlines()\n",
    "    clean = lambda x:x.strip(\"\\n\").split(\" \")\n",
    "    node_pairs = list(map(clean,text[2:]))\n",
    "    node_pairs = [(int(x[0]),int(x[1])) for x in node_pairs]\n",
    "    node_pairs[:4]\n",
    "    G = nx.Graph()\n",
    "    G.add_edges_from(node_pairs)\n",
    "    return G"
   ]
  },
  {
   "cell_type": "code",
   "execution_count": 6,
   "metadata": {},
   "outputs": [],
   "source": [
    "def size_of_largest_component(G):\n",
    "    return nx.number_of_nodes(max(nx.connected_component_subgraphs(G), key=len))\n",
    "\n",
    "def average_degree(G):\n",
    "    degrees = G.degree() # Creates a DegreeView\n",
    "    degrees = list(map(lambda x:x[1],degrees)) # Creates list of degrees\n",
    "    return np.mean(degrees)"
   ]
  },
  {
   "cell_type": "markdown",
   "metadata": {},
   "source": [
    "# (Q2) Graph Partitioning"
   ]
  },
  {
   "cell_type": "code",
   "execution_count": 7,
   "metadata": {},
   "outputs": [],
   "source": [
    "# Given the vector v2, returns the 2 possible best choices of s\n",
    "# Following Renauld's notes, page 27\n",
    "# s might not have the expected size if there are repeated values in v2\n",
    "def possible_s(v2,size):\n",
    "    cut_point_1 = sorted(v2)[size]\n",
    "    cut_point_2 = sorted(v2)[-size]\n",
    "    s_1 = [x < cut_point_1 for x in v2]\n",
    "    s_2 = [x < cut_point_2 for x in v2]\n",
    "    s_1 = np.where(s_1)[0]\n",
    "    s_2 = np.where(s_2)[0]\n",
    "    return [s_1,s_2]"
   ]
  },
  {
   "cell_type": "code",
   "execution_count": 8,
   "metadata": {},
   "outputs": [],
   "source": [
    "def bipartition(G,size):\n",
    "    # Assertions\n",
    "    assert(size < len(G))\n",
    "    assert(size > 0)\n",
    "    \n",
    "    L = nx.laplacian_matrix(G).todense() # Laplacian\n",
    "    eigenvectors = np.linalg.eig(L)[1] # List of eigenvectors\n",
    "    eigenvectors = sorted(eigenvectors, key = lambda x:np.linalg.norm(x))\n",
    "    v2 = np.asarray(eigenvectors[1])[0] #\n",
    "    solutions = possible_s(v2,size)\n",
    "    if nx.cut_size(G,solutions[0]) < nx.cut_size(G,solutions[1]):\n",
    "        answer = solutions[0]\n",
    "    else:\n",
    "        answer = solutions[1]\n",
    "    return answer"
   ]
  },
  {
   "cell_type": "code",
   "execution_count": 9,
   "metadata": {},
   "outputs": [
    {
     "data": {
      "text/plain": [
       "array([2, 3, 5, 6])"
      ]
     },
     "execution_count": 9,
     "metadata": {},
     "output_type": "execute_result"
    }
   ],
   "source": [
    "G = nx.erdos_renyi_graph(7,.5)\n",
    "bipartition(G,3)"
   ]
  },
  {
   "cell_type": "code",
   "execution_count": 10,
   "metadata": {},
   "outputs": [
    {
     "name": "stdout",
     "output_type": "stream",
     "text": [
      "Number of nodes: 7\n"
     ]
    },
    {
     "data": {
      "image/png": "[encoded data removed]",
      "text/plain": [
       "<matplotlib.figure.Figure at 0x7f893ca56e48>"
      ]
     },
     "metadata": {},
     "output_type": "display_data"
    }
   ],
   "source": [
    "draw(G)"
   ]
  },
  {
   "cell_type": "markdown",
   "metadata": {},
   "source": [
    "# (Q3) Modularity"
   ]
  },
  {
   "cell_type": "markdown",
   "metadata": {},
   "source": [
    "**(a)**"
   ]
  },
  {
   "cell_type": "code",
   "execution_count": null,
   "metadata": {},
   "outputs": [],
   "source": []
  }
 ],
 "metadata": {
  "kernelspec": {
   "display_name": "Python 3",
   "language": "python",
   "name": "python3"
  },
  "language_info": {
   "codemirror_mode": {
    "name": "ipython",
    "version": 3
   },
   "file_extension": ".py",
   "mimetype": "text/x-python",
   "name": "python",
   "nbconvert_exporter": "python",
   "pygments_lexer": "ipython3",
   "version": "3.6.3"
  }
 },
 "nbformat": 4,
 "nbformat_minor": 2
}
