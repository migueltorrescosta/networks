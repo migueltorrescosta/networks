{
 "cells": [
  {
   "cell_type": "markdown",
   "metadata": {},
   "source": [
    "**Class:** C5.4 Networks\n",
    "\n",
    "**From:** Miguel Torres Costa\n",
    "\n",
    "**To:** Mr Michael Coughlan"
   ]
  },
  {
   "cell_type": "markdown",
   "metadata": {},
   "source": [
    "# All imports"
   ]
  },
  {
   "cell_type": "code",
   "execution_count": 1,
   "metadata": {},
   "outputs": [],
   "source": [
    "import numpy as np\n",
    "import networkx as nx\n",
    "import math\n",
    "import itertools\n",
    "import matplotlib.pyplot as plt\n",
    "import pandas as pd\n",
    "import seaborn as sns\n",
    "import itertools"
   ]
  },
  {
   "cell_type": "markdown",
   "metadata": {},
   "source": [
    "# Utils"
   ]
  },
  {
   "cell_type": "code",
   "execution_count": 2,
   "metadata": {},
   "outputs": [],
   "source": [
    "def draw(G,**kwargs):\n",
    "    print(\"Number of nodes: \" + str(len(G.nodes())))\n",
    "    if len(G)<40:\n",
    "        nx.draw_spring(G,\n",
    "                       node_size=400,\n",
    "                       with_labels=True)\n",
    "    else:\n",
    "        nx.draw_spring(G,\n",
    "                       node_size=.5,\n",
    "                       with_labels=False)       "
   ]
  },
  {
   "cell_type": "code",
   "execution_count": 3,
   "metadata": {},
   "outputs": [],
   "source": [
    "def create_undirected_graph(edges):\n",
    "    G=nx.Graph()\n",
    "    G.add_edges_from(edges)\n",
    "    return G"
   ]
  },
  {
   "cell_type": "code",
   "execution_count": 4,
   "metadata": {},
   "outputs": [],
   "source": [
    "def create_directed_graph(edges):\n",
    "    DG=nx.DiGraph()\n",
    "    DG.add_edges_from(edges)\n",
    "    return DG"
   ]
  },
  {
   "cell_type": "code",
   "execution_count": 5,
   "metadata": {},
   "outputs": [],
   "source": [
    "def load_graph_from_tsv(file):\n",
    "    f = open(\"datasets/\" + str(file),\"r\")\n",
    "    text = f.readlines()\n",
    "    clean = lambda x:x.strip(\"\\n\").split(\" \")\n",
    "    node_pairs = list(map(clean,text[2:]))\n",
    "    node_pairs = [(int(x[0]),int(x[1])) for x in node_pairs]\n",
    "    node_pairs[:4]\n",
    "    G = nx.Graph()\n",
    "    G.add_edges_from(node_pairs)\n",
    "    return G"
   ]
  },
  {
   "cell_type": "code",
   "execution_count": 6,
   "metadata": {},
   "outputs": [],
   "source": [
    "def size_of_largest_component(G):\n",
    "    return nx.number_of_nodes(max(nx.connected_component_subgraphs(G), key=len))\n",
    "\n",
    "def average_degree(G):\n",
    "    degrees = G.degree() # Creates a DegreeView\n",
    "    degrees = list(map(lambda x:x[1],degrees)) # Creates list of degrees\n",
    "    return np.mean(degrees)"
   ]
  },
  {
   "cell_type": "markdown",
   "metadata": {},
   "source": [
    "# (Q2) - Erdos-Renyi\n",
    "**(a)** Ex.V.1 : Reproduce numerically the results of Figure (14)."
   ]
  },
  {
   "cell_type": "code",
   "execution_count": 7,
   "metadata": {},
   "outputs": [],
   "source": [
    "def create_erdos_renyi_relations(n_values,p_values):\n",
    "    percentages = []\n",
    "    degrees = []\n",
    "    for n,p in itertools.product(n_values,p_values):\n",
    "        G = nx.erdos_renyi_graph(n, p, seed=None, directed=False)\n",
    "        percentages.append(size_of_largest_component(G)/nx.number_of_nodes(G))\n",
    "        degrees.append(average_degree(G))\n",
    "    return percentages,degrees"
   ]
  },
  {
   "cell_type": "code",
   "execution_count": 8,
   "metadata": {},
   "outputs": [],
   "source": [
    "# n_values = list( map(lambda x:int(x), np.logspace(1,7,7, base=2)))\n",
    "n_values = [200]\n",
    "p_values = np.logspace(-7,-1,20,base=2)\n",
    "percentages,degrees = create_erdos_renyi_relations(n_values=n_values,\n",
    "                                                   p_values=p_values)"
   ]
  },
  {
   "cell_type": "markdown",
   "metadata": {},
   "source": [
    "The plots below look nothing like the values expected :/"
   ]
  },
  {
   "cell_type": "code",
   "execution_count": 9,
   "metadata": {},
   "outputs": [
    {
     "data": {
      "text/plain": [
       "<matplotlib.collections.PathCollection at 0x7f07633d47f0>"
      ]
     },
     "execution_count": 9,
     "metadata": {},
     "output_type": "execute_result"
    },
    {
     "data": {
      "image/png": "[encoded data removed]",
      "text/plain": [
       "<matplotlib.figure.Figure at 0x7f0766607470>"
      ]
     },
     "metadata": {},
     "output_type": "display_data"
    }
   ],
   "source": [
    "plt.scatter(degrees,percentages)"
   ]
  },
  {
   "cell_type": "code",
   "execution_count": 10,
   "metadata": {},
   "outputs": [
    {
     "data": {
      "text/plain": [
       "<matplotlib.axes._subplots.AxesSubplot at 0x7f07633c85f8>"
      ]
     },
     "execution_count": 10,
     "metadata": {},
     "output_type": "execute_result"
    },
    {
     "data": {
      "image/png": "[encoded data removed]",
      "text/plain": [
       "<matplotlib.figure.Figure at 0x7f07633aa668>"
      ]
     },
     "metadata": {},
     "output_type": "display_data"
    }
   ],
   "source": [
    "sns.distplot(percentages)"
   ]
  },
  {
   "cell_type": "code",
   "execution_count": 11,
   "metadata": {
    "scrolled": true
   },
   "outputs": [
    {
     "data": {
      "text/plain": [
       "<matplotlib.axes._subplots.AxesSubplot at 0x7f076331ecf8>"
      ]
     },
     "execution_count": 11,
     "metadata": {},
     "output_type": "execute_result"
    },
    {
     "data": {
      "image/png": "[encoded data removed]",
      "text/plain": [
       "<matplotlib.figure.Figure at 0x7f0763326860>"
      ]
     },
     "metadata": {},
     "output_type": "display_data"
    }
   ],
   "source": [
    "sns.distplot(degrees)"
   ]
  },
  {
   "cell_type": "markdown",
   "metadata": {},
   "source": [
    "**(b)** Calculate the global clustering coefficient C of an ER graph (in expectation over the ensemble), and verify\n",
    "your prediction numerically."
   ]
  },
  {
   "cell_type": "markdown",
   "metadata": {},
   "source": [
    "The global clustering coefficient is given by $3 * \\frac{number.of.connected.triangles}{number.of.connected.triples}$ . For any 3 nodes $X$, the probability of it contributing to the above is given by $\\frac{\\mathbb{P}[X.is.a.connected.triangle ]}{\\mathbb{P}[X.is.a.connected.triple]}$ . . Since a graph of size $n$ has ${n}\\choose{3}$ triples, then the expected global clustering coefficient is given by $3*{{n}\\choose{3}}\\frac{p^3}{p^3+3p^2(1-p)} = \\frac{n(n-1)(n-2)}{2}{{n}\\choose{3}}\\frac{p^3}{p^3+3p^2(1-p)}$"
   ]
  },
  {
   "cell_type": "markdown",
   "metadata": {},
   "source": [
    "The global clustering coefficient is given by $3 * \\frac{number.of.connected.triangles}{number.of.connected.triples}$ . \n",
    "\n",
    "For any 3 nodes $X$, the probability of it contributing to the above is given by $\\frac{\\mathbb{P}[X.is.a.connected.triangle ]}{\\mathbb{P}[X.is.a.connected.triple]} = \\mathbb{P}[X.is.a.connected.triangle | X.is.a.connected.triple]$. $X$ is a connected triangle with probability $p^3$ and it is a connected triple with probability $p^3+3p^2(1-p)$.\n",
    "\n",
    "Hence $\\mathbb{P}[X.is.a.connected.triangle | X.is.a.connected.triple] = \\frac{p^3}{p^3+3p^2(1-p)} = \\frac{p}{p+3(1-p)} =  \\frac{p}{3-2p}$, so the expected coefficient is $\\frac{p}{3-2p}$.\n",
    "\n",
    "However experimentally (see graphs below) I got that $p$ is a much better approximation of the global clustering coefficient"
   ]
  },
  {
   "cell_type": "code",
   "execution_count": 12,
   "metadata": {},
   "outputs": [],
   "source": [
    "def observed_global_clustering_coefficient(n,p):\n",
    "    G = nx.erdos_renyi_graph(n,p)\n",
    "    return nx.transitivity(G)"
   ]
  },
  {
   "cell_type": "markdown",
   "metadata": {},
   "source": [
    "Comparing the values:"
   ]
  },
  {
   "cell_type": "code",
   "execution_count": 13,
   "metadata": {},
   "outputs": [],
   "source": [
    "n_values = [int(x) for x in np.linspace(110,210,10)]\n",
    "p_values = np.linspace(.1,.9,9)\n",
    "df = pd.DataFrame({},columns={'n','p','observed_coefficient','expected_coefficient'})\n",
    "for (n,p) in itertools.product(n_values,p_values):\n",
    "    x = observed_global_clustering_coefficient(n,p)\n",
    "    df = df.append({'n':n,\n",
    "                    'p':p,\n",
    "                    'observed_coefficient':x},\n",
    "                   ignore_index=True)"
   ]
  },
  {
   "cell_type": "code",
   "execution_count": 14,
   "metadata": {
    "scrolled": true
   },
   "outputs": [
    {
     "data": {
      "text/html": [
       "<div>\n",
       "<style scoped>\n",
       "    .dataframe tbody tr th:only-of-type {\n",
       "        vertical-align: middle;\n",
       "    }\n",
       "\n",
       "    .dataframe tbody tr th {\n",
       "        vertical-align: top;\n",
       "    }\n",
       "\n",
       "    .dataframe thead th {\n",
       "        text-align: right;\n",
       "    }\n",
       "</style>\n",
       "<table border=\"1\" class=\"dataframe\">\n",
       "  <thead>\n",
       "    <tr style=\"text-align: right;\">\n",
       "      <th></th>\n",
       "      <th>n</th>\n",
       "      <th>p</th>\n",
       "      <th>expected_coefficient</th>\n",
       "      <th>observed_coefficient</th>\n",
       "    </tr>\n",
       "  </thead>\n",
       "  <tbody>\n",
       "    <tr>\n",
       "      <th>0</th>\n",
       "      <td>110.0</td>\n",
       "      <td>0.1</td>\n",
       "      <td>NaN</td>\n",
       "      <td>0.094679</td>\n",
       "    </tr>\n",
       "    <tr>\n",
       "      <th>1</th>\n",
       "      <td>110.0</td>\n",
       "      <td>0.2</td>\n",
       "      <td>NaN</td>\n",
       "      <td>0.205921</td>\n",
       "    </tr>\n",
       "    <tr>\n",
       "      <th>2</th>\n",
       "      <td>110.0</td>\n",
       "      <td>0.3</td>\n",
       "      <td>NaN</td>\n",
       "      <td>0.296154</td>\n",
       "    </tr>\n",
       "    <tr>\n",
       "      <th>3</th>\n",
       "      <td>110.0</td>\n",
       "      <td>0.4</td>\n",
       "      <td>NaN</td>\n",
       "      <td>0.399546</td>\n",
       "    </tr>\n",
       "    <tr>\n",
       "      <th>4</th>\n",
       "      <td>110.0</td>\n",
       "      <td>0.5</td>\n",
       "      <td>NaN</td>\n",
       "      <td>0.507457</td>\n",
       "    </tr>\n",
       "  </tbody>\n",
       "</table>\n",
       "</div>"
      ],
      "text/plain": [
       "       n    p  expected_coefficient  observed_coefficient\n",
       "0  110.0  0.1                   NaN              0.094679\n",
       "1  110.0  0.2                   NaN              0.205921\n",
       "2  110.0  0.3                   NaN              0.296154\n",
       "3  110.0  0.4                   NaN              0.399546\n",
       "4  110.0  0.5                   NaN              0.507457"
      ]
     },
     "execution_count": 14,
     "metadata": {},
     "output_type": "execute_result"
    }
   ],
   "source": [
    "df.head(5)"
   ]
  },
  {
   "cell_type": "code",
   "execution_count": 15,
   "metadata": {},
   "outputs": [
    {
     "data": {
      "text/plain": [
       "<matplotlib.axes._subplots.AxesSubplot at 0x7f0766607240>"
      ]
     },
     "execution_count": 15,
     "metadata": {},
     "output_type": "execute_result"
    },
    {
     "data": {
      "image/png": "[encoded data removed]",
      "text/plain": [
       "<matplotlib.figure.Figure at 0x7f076322b4a8>"
      ]
     },
     "metadata": {},
     "output_type": "display_data"
    }
   ],
   "source": [
    "df.plot('observed_coefficient','p',kind='scatter')"
   ]
  },
  {
   "cell_type": "markdown",
   "metadata": {},
   "source": [
    "# (Q3) Configuration Model"
   ]
  },
  {
   "cell_type": "markdown",
   "metadata": {},
   "source": [
    "**(a)** Generate randomised version of different empirical networks and verify that the number of self-\n",
    "loops and multiple edges becomes negligible when the system is sufficiently large."
   ]
  },
  {
   "cell_type": "code",
   "execution_count": 16,
   "metadata": {},
   "outputs": [],
   "source": [
    "def sample_multi_graph(sizes):\n",
    "    df = pd.DataFrame({}, columns= ['n','self_loops','multi_edges'])\n",
    "    for n in sizes:\n",
    "        degrees = np.random.randint(1,n,n)\n",
    "        while sum(degrees)%2!=0:\n",
    "            degrees = np.random.randint(1,10,n)\n",
    "        G = nx.configuration_model(degrees)\n",
    "        df = df.append({'n':n,\n",
    "                        'self_loops':G.number_of_selfloops(),\n",
    "                        'multi_edges':2},\n",
    "                       ignore_index=True)\n",
    "    return df"
   ]
  },
  {
   "cell_type": "code",
   "execution_count": 17,
   "metadata": {},
   "outputs": [
    {
     "data": {
      "text/html": [
       "<div>\n",
       "<style scoped>\n",
       "    .dataframe tbody tr th:only-of-type {\n",
       "        vertical-align: middle;\n",
       "    }\n",
       "\n",
       "    .dataframe tbody tr th {\n",
       "        vertical-align: top;\n",
       "    }\n",
       "\n",
       "    .dataframe thead th {\n",
       "        text-align: right;\n",
       "    }\n",
       "</style>\n",
       "<table border=\"1\" class=\"dataframe\">\n",
       "  <thead>\n",
       "    <tr style=\"text-align: right;\">\n",
       "      <th></th>\n",
       "      <th>0</th>\n",
       "      <th>1</th>\n",
       "      <th>2</th>\n",
       "      <th>3</th>\n",
       "      <th>4</th>\n",
       "      <th>5</th>\n",
       "      <th>6</th>\n",
       "      <th>7</th>\n",
       "      <th>8</th>\n",
       "      <th>9</th>\n",
       "      <th>...</th>\n",
       "      <th>20</th>\n",
       "      <th>21</th>\n",
       "      <th>22</th>\n",
       "      <th>23</th>\n",
       "      <th>24</th>\n",
       "      <th>25</th>\n",
       "      <th>26</th>\n",
       "      <th>27</th>\n",
       "      <th>28</th>\n",
       "      <th>29</th>\n",
       "    </tr>\n",
       "  </thead>\n",
       "  <tbody>\n",
       "    <tr>\n",
       "      <th>n</th>\n",
       "      <td>100</td>\n",
       "      <td>200</td>\n",
       "      <td>300</td>\n",
       "      <td>400</td>\n",
       "      <td>500</td>\n",
       "      <td>600</td>\n",
       "      <td>700</td>\n",
       "      <td>800</td>\n",
       "      <td>900</td>\n",
       "      <td>1000</td>\n",
       "      <td>...</td>\n",
       "      <td>2100</td>\n",
       "      <td>2200</td>\n",
       "      <td>2300</td>\n",
       "      <td>2400</td>\n",
       "      <td>2500</td>\n",
       "      <td>2600</td>\n",
       "      <td>2700</td>\n",
       "      <td>2800</td>\n",
       "      <td>2900</td>\n",
       "      <td>3000</td>\n",
       "    </tr>\n",
       "    <tr>\n",
       "      <th>self_loops</th>\n",
       "      <td>44</td>\n",
       "      <td>64</td>\n",
       "      <td>2</td>\n",
       "      <td>135</td>\n",
       "      <td>2</td>\n",
       "      <td>211</td>\n",
       "      <td>227</td>\n",
       "      <td>2</td>\n",
       "      <td>3</td>\n",
       "      <td>2</td>\n",
       "      <td>...</td>\n",
       "      <td>1</td>\n",
       "      <td>748</td>\n",
       "      <td>729</td>\n",
       "      <td>2</td>\n",
       "      <td>863</td>\n",
       "      <td>1</td>\n",
       "      <td>2</td>\n",
       "      <td>890</td>\n",
       "      <td>1003</td>\n",
       "      <td>995</td>\n",
       "    </tr>\n",
       "    <tr>\n",
       "      <th>multi_edges</th>\n",
       "      <td>2</td>\n",
       "      <td>2</td>\n",
       "      <td>2</td>\n",
       "      <td>2</td>\n",
       "      <td>2</td>\n",
       "      <td>2</td>\n",
       "      <td>2</td>\n",
       "      <td>2</td>\n",
       "      <td>2</td>\n",
       "      <td>2</td>\n",
       "      <td>...</td>\n",
       "      <td>2</td>\n",
       "      <td>2</td>\n",
       "      <td>2</td>\n",
       "      <td>2</td>\n",
       "      <td>2</td>\n",
       "      <td>2</td>\n",
       "      <td>2</td>\n",
       "      <td>2</td>\n",
       "      <td>2</td>\n",
       "      <td>2</td>\n",
       "    </tr>\n",
       "  </tbody>\n",
       "</table>\n",
       "<p>3 rows × 30 columns</p>\n",
       "</div>"
      ],
      "text/plain": [
       "              0    1    2    3    4    5    6    7    8     9   ...     20  \\\n",
       "n            100  200  300  400  500  600  700  800  900  1000  ...   2100   \n",
       "self_loops    44   64    2  135    2  211  227    2    3     2  ...      1   \n",
       "multi_edges    2    2    2    2    2    2    2    2    2     2  ...      2   \n",
       "\n",
       "               21    22    23    24    25    26    27    28    29  \n",
       "n            2200  2300  2400  2500  2600  2700  2800  2900  3000  \n",
       "self_loops    748   729     2   863     1     2   890  1003   995  \n",
       "multi_edges     2     2     2     2     2     2     2     2     2  \n",
       "\n",
       "[3 rows x 30 columns]"
      ]
     },
     "execution_count": 17,
     "metadata": {},
     "output_type": "execute_result"
    }
   ],
   "source": [
    "df = sample_multi_graph([int(x) for x in np.linspace(100,3000,30)])\n",
    "df.head(30).T"
   ]
  },
  {
   "cell_type": "markdown",
   "metadata": {},
   "source": [
    "**(b)** Take an undirected network and its randomised version according to the configuration model.  Compare\n",
    "the correlations between node degree and PageRank for each network.  Describe and comment the results."
   ]
  },
  {
   "cell_type": "code",
   "execution_count": 18,
   "metadata": {},
   "outputs": [
    {
     "name": "stdout",
     "output_type": "stream",
     "text": [
      "Number of nodes: 34\n"
     ]
    },
    {
     "data": {
      "image/png": "[encoded data removed]",
      "text/plain": [
       "<matplotlib.figure.Figure at 0x7f076337bf60>"
      ]
     },
     "metadata": {},
     "output_type": "display_data"
    }
   ],
   "source": [
    "G = load_graph_from_tsv('karateclub.tsv')\n",
    "draw(G)"
   ]
  },
  {
   "cell_type": "markdown",
   "metadata": {},
   "source": [
    "Getting the vertex degrees:"
   ]
  },
  {
   "cell_type": "code",
   "execution_count": 19,
   "metadata": {},
   "outputs": [
    {
     "name": "stdout",
     "output_type": "stream",
     "text": [
      "Number of nodes: 34\n"
     ]
    },
    {
     "data": {
      "image/png": "[encoded data removed]",
      "text/plain": [
       "<matplotlib.figure.Figure at 0x7f07631f4518>"
      ]
     },
     "metadata": {},
     "output_type": "display_data"
    }
   ],
   "source": [
    "degrees = list(G.degree())\n",
    "degrees = [x[1] for x in degrees] # Discards the node identifier\n",
    "H = nx.configuration_model(degrees) # Generates a random graph with the given vertices\n",
    "draw(H)"
   ]
  },
  {
   "cell_type": "code",
   "execution_count": 20,
   "metadata": {},
   "outputs": [],
   "source": [
    "def generate_correlation_metrics(G):\n",
    "    degree = dict(nx.degree(G))\n",
    "    pagerank = nx.pagerank_numpy(G,alpha=0.5) # The $ \\alpha=.85 $ was chosen randomly. Is there a better approach?\n",
    "\n",
    "    # Builds a dataframe with the measures as columns and the nodes as rows\n",
    "    df = pd.DataFrame({'degree':degree,\n",
    "                       'pagerank':pagerank})\n",
    "    for metric in ['pearson', 'kendall', 'spearman']:\n",
    "        correlation = df.corr(metric)['degree']['pagerank']\n",
    "        print(str(metric.capitalize()) + ' correlation:' + str(correlation))"
   ]
  },
  {
   "cell_type": "code",
   "execution_count": 21,
   "metadata": {},
   "outputs": [
    {
     "name": "stdout",
     "output_type": "stream",
     "text": [
      "Pearson correlation:0.98977936314\n",
      "Kendall correlation:0.855724852457\n",
      "Spearman correlation:0.947141350696\n"
     ]
    }
   ],
   "source": [
    "generate_correlation_metrics(G)"
   ]
  },
  {
   "cell_type": "code",
   "execution_count": 22,
   "metadata": {},
   "outputs": [
    {
     "name": "stdout",
     "output_type": "stream",
     "text": [
      "Pearson correlation:0.973238581827\n",
      "Kendall correlation:0.770935922773\n",
      "Spearman correlation:0.8919716435\n"
     ]
    }
   ],
   "source": [
    "generate_correlation_metrics(H)"
   ]
  },
  {
   "cell_type": "markdown",
   "metadata": {},
   "source": [
    "From the above we can tell that the correlation decreases when going from the original graph to a configuration model generated graph. I assume this occurs because the configuration model is missing some relevant netwrok dynamics assumptions (for instance, if A connected to B and B to C, than A is more likely to be connected to C than average)"
   ]
  },
  {
   "cell_type": "code",
   "execution_count": null,
   "metadata": {},
   "outputs": [],
   "source": []
  }
 ],
 "metadata": {
  "kernelspec": {
   "display_name": "Python 3",
   "language": "python",
   "name": "python3"
  },
  "language_info": {
   "codemirror_mode": {
    "name": "ipython",
    "version": 3
   },
   "file_extension": ".py",
   "mimetype": "text/x-python",
   "name": "python",
   "nbconvert_exporter": "python",
   "pygments_lexer": "ipython3",
   "version": "3.6.3"
  }
 },
 "nbformat": 4,
 "nbformat_minor": 2
}
