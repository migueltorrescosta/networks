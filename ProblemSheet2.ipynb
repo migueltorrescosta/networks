{
 "cells": [
  {
   "cell_type": "markdown",
   "metadata": {},
   "source": [
    "**Class:** C5.4 Networks\n",
    "\n",
    "**From:** Miguel Torres Costa\n",
    "\n",
    "**To:** Mr Michael Coughlan"
   ]
  },
  {
   "cell_type": "markdown",
   "metadata": {},
   "source": [
    "# All imports"
   ]
  },
  {
   "cell_type": "code",
   "execution_count": 1,
   "metadata": {},
   "outputs": [],
   "source": [
    "import numpy as np\n",
    "import networkx as nx\n",
    "import math\n",
    "import matplotlib.pyplot as plt\n",
    "import pandas as pd"
   ]
  },
  {
   "cell_type": "markdown",
   "metadata": {},
   "source": [
    "# Utils"
   ]
  },
  {
   "cell_type": "code",
   "execution_count": 2,
   "metadata": {},
   "outputs": [],
   "source": [
    "def draw(G,**kwargs):\n",
    "    n = len(G)\n",
    "    nx.draw_spring(G,\n",
    "                   node_size=300-30*math.log(n), # Node size decreases linearly with the magnitude of existing nodes\n",
    "                   with_labels=n<20, # Only print labels if there are less than 20 nodes\n",
    "                   **kwargs)"
   ]
  },
  {
   "cell_type": "code",
   "execution_count": 3,
   "metadata": {},
   "outputs": [],
   "source": [
    "def create_undirected_graph(edges):\n",
    "    G=nx.Graph()\n",
    "    G.add_edges_from(edges)\n",
    "    return G"
   ]
  },
  {
   "cell_type": "code",
   "execution_count": 4,
   "metadata": {},
   "outputs": [],
   "source": [
    "def create_directed_graph(edges):\n",
    "    DG=nx.DiGraph()\n",
    "    DG.add_edges_from(edges)\n",
    "    return DG"
   ]
  },
  {
   "cell_type": "code",
   "execution_count": 5,
   "metadata": {},
   "outputs": [],
   "source": [
    "def load_graph_from_tsv(file):\n",
    "    f = open(file,\"r\")\n",
    "    text = f.readlines()\n",
    "    clean = lambda x:x.strip(\"\\n\").split(\" \")\n",
    "    node_pairs = list(map(clean,text[2:]))\n",
    "    node_pairs = [(int(x[0]),int(x[1])) for x in node_pairs]\n",
    "    node_pairs[:4]\n",
    "    G = nx.Graph()\n",
    "    G.add_edges_from(node_pairs)\n",
    "    return G"
   ]
  },
  {
   "cell_type": "markdown",
   "metadata": {},
   "source": [
    "# 2 Connectedness\n",
    "**a) **\n",
    "Draw a graph that is weakly connected but not strongly connected.  Write down the adjacency matrix of\n",
    "this graph.  What can happen to a random walk in such a graph, and what implication does this have for\n",
    "the asymptotic density of walkers on the nodes?"
   ]
  },
  {
   "cell_type": "code",
   "execution_count": 6,
   "metadata": {},
   "outputs": [
    {
     "data": {
      "image/png": "[encoded data removed]",
      "text/plain": [
       "<matplotlib.figure.Figure at 0x7fd8faff7f28>"
      ]
     },
     "metadata": {},
     "output_type": "display_data"
    }
   ],
   "source": [
    "DG = create_directed_graph([(1,2)])\n",
    "draw(DG)"
   ]
  },
  {
   "cell_type": "markdown",
   "metadata": {},
   "source": [
    "Adjacency matrix\n",
    "$ \n",
    "M=\n",
    "\\left[ {\\begin{array}{cc}\n",
    "0 & 1 \\\\\n",
    "0 & 0 \\\\\n",
    "\\end{array} } \\right]\n",
    "$"
   ]
  },
  {
   "cell_type": "markdown",
   "metadata": {},
   "source": [
    "Given the simplicity of the drawn graph, the only thing that can happen is for the walk to end on the 2nd node and get stuck there. For a general weakly connected graph then we can write a partial ordering on the strongly connected components. From that partial ordering we can make a tree, and a random walk will inevitably get stuck on one of the leaves."
   ]
  },
  {
   "cell_type": "markdown",
   "metadata": {},
   "source": [
    "**b)**\n",
    "Consider the adjacency-matrix representation of a graph.  What is the difference between the spectrum of\n",
    "directed networks versus that of undirected networks?  (Recall that the set of eigenvalues of a matrix is\n",
    "called the\n",
    "spectrum\n",
    "of that matrix.)"
   ]
  },
  {
   "cell_type": "markdown",
   "metadata": {},
   "source": [
    "**Answer:** Since undirected matrices are represented by symmetric matrices, its eigenvalues are always real, whereas directed graphs are represented by more general matrices which might have non-real eigenvalues.\n",
    "Hence undirected graphs have matrices whose spectrum is a subset of the reals, whereas in directed graphs that might not be true."
   ]
  },
  {
   "cell_type": "markdown",
   "metadata": {},
   "source": [
    "# 3 Clustering  coefficients\n",
    "Draw  a  very  small  network  in  which  the  global  clustering  coefficient  and  mean  local\n",
    "clustering coefficient have different values.  Write down the adjacency matrix for this network."
   ]
  },
  {
   "cell_type": "markdown",
   "metadata": {},
   "source": [
    "**Answer:** Letting $ c_k := $ Number of triangles including the kth node $ * \\frac{2}{(\\deg(k)-1)\\deg(k)}$, then the mean local clustering coefficient is given by $\\sum_k{c_k}$ where the sum goes through all nodes $k$. The global clustering coefficient (whose definition can be found on wikipedia but not on the lecture notes) is given by\n",
    "$ 3 * \\frac{number.of.connected.triangles}{number.of.connected.triples} $ . In order to compute the global clustering coefficient we use **nx.transitivity**\n",
    "and for the mean local clustering coefficient we use **nx.average_clustering**."
   ]
  },
  {
   "cell_type": "code",
   "execution_count": 7,
   "metadata": {},
   "outputs": [],
   "source": [
    "def clustering_analysis(G):\n",
    "    print(\"Global clustering coefficient: \" + str(nx.transitivity(G)))\n",
    "    print(\"Mean Local coefficient: \" + str(nx.average_clustering(G)))\n",
    "    draw(G)"
   ]
  },
  {
   "cell_type": "code",
   "execution_count": 8,
   "metadata": {},
   "outputs": [
    {
     "name": "stdout",
     "output_type": "stream",
     "text": [
      "Global clustering coefficient: 0.75\n",
      "Mean Local coefficient: 0.8333333333333333\n"
     ]
    },
    {
     "data": {
      "image/png": "[encoded data removed]",
      "text/plain": [
       "<matplotlib.figure.Figure at 0x7fd8f8f3b9e8>"
      ]
     },
     "metadata": {},
     "output_type": "display_data"
    }
   ],
   "source": [
    "G = create_undirected_graph([(1,2),(2,3),(1,3),(1,4),(2,4)])\n",
    "clustering_analysis(G)"
   ]
  },
  {
   "cell_type": "markdown",
   "metadata": {},
   "source": [
    "This graph has adjacency Matrix\n",
    "$$ \n",
    "M=\n",
    "\\left[ {\\begin{array}{cccc}\n",
    "0 & 1 & 1 & 0\\\\\n",
    "1 & 0 & 1 & 0\\\\\n",
    "1 & 1 & 0 & 1\\\\\n",
    "0 & 1 & 1 & 0\\\\\n",
    "\\end{array} } \\right]\n",
    "$$\n",
    "in other words, $(1,4)$ is the only missing edge"
   ]
  },
  {
   "cell_type": "markdown",
   "metadata": {},
   "source": [
    "# 4 Small-world\n",
    "**Ex.IV.4:**   Generate  graphs  of  the  model  c  from  Figure  (13)  and  calculate  the  dependence  of\n",
    "the network diameter and clustering coefficient on the number of shortcuts.  Is this model, very similar to the\n",
    "so-called Watts-Strogatz model, a good model for a social network?  Why or why not?"
   ]
  },
  {
   "cell_type": "markdown",
   "metadata": {},
   "source": [
    "**Answer:** In order to compute the diameter we will use **nx.diameter** and for the clustering coefficient we will use **nx.transitivity** (i.e. the global clustering coefficient).\n",
    "For the number of shortcuts ...\n",
    "\n",
    "(unfinished since I could not find model c from Figure (13)"
   ]
  },
  {
   "cell_type": "markdown",
   "metadata": {},
   "source": [
    "# 5 Centrality  measures\n",
    "**Ex.IV.5:** Take  an  undirected  network  and  measure  the  correlation  between  different\n",
    "centrality measures.  The correlation can either be estimated with the centrality values (Spearman) or with their\n",
    "associated ranking (Kendall). Construct an example of a graph where one node has a small degree centrality\n",
    "but a high betweenness centrality."
   ]
  },
  {
   "cell_type": "markdown",
   "metadata": {},
   "source": [
    "**Answer:** Given 2 random variables (or sets of observation) $X$ and $Y$, we have"
   ]
  },
  {
   "cell_type": "markdown",
   "metadata": {},
   "source": [
    "**Pearson Correlation:** $\\frac{\\mathrm{Cov}(X,Y)}{\\sigma(X)\\sigma(Y)}$"
   ]
  },
  {
   "cell_type": "markdown",
   "metadata": {},
   "source": [
    "**Kendall Correlation:** After ordering the observation pairs, use $ \\frac{(number.of.concordant.pairs)-(number.of.discordant.pairs)}{\\frac{1}{2}{n(n-1)}} $"
   ]
  },
  {
   "cell_type": "markdown",
   "metadata": {},
   "source": [
    "**Spearman Correlation:** Pearson correlation after mapping the observations $X_i$, $Y_i$ to their ranks."
   ]
  },
  {
   "cell_type": "code",
   "execution_count": 9,
   "metadata": {},
   "outputs": [],
   "source": [
    "def correlation_of_centrality_metrics(G):\n",
    "    \n",
    "    # Builds dictionaries with the different metrics\n",
    "    betweenness = nx.betweenness_centrality(G)\n",
    "    degree = dict(nx.degree(G)) # This one needs to be converted to a dictionary because of DegreeView\n",
    "    closeness = nx.closeness_centrality(G)\n",
    "    katz = nx.katz_centrality(G)\n",
    "    pagerank = nx.pagerank(G,alpha=0.85) # The $ \\alpha=.85 $ was chosen randomly. Is there a better approach?\n",
    "    \n",
    "    # Builds a dataframe with the measures as columns and the nodes as rows\n",
    "    df = pd.DataFrame({'betweenness':betweenness,\n",
    "                       'degree':degree,\n",
    "                       'closeness':closeness,\n",
    "                       'katz':katz,\n",
    "                       'pagerank':pagerank})\n",
    "    \n",
    "    # Builds correlation matrices for the different metrics\n",
    "    for metric in ['pearson', 'kendall', 'spearman']:\n",
    "        print(\"\\n\\n\" + str(metric.capitalize()) + ' correlation:')\n",
    "        print(df.corr(metric))"
   ]
  },
  {
   "cell_type": "markdown",
   "metadata": {},
   "source": [
    "**Dataset used:** The propo dataset used consists of nodes representing proteins and edges representing pairs of interacting proteins."
   ]
  },
  {
   "cell_type": "code",
   "execution_count": 10,
   "metadata": {},
   "outputs": [
    {
     "data": {
      "image/png": "[encoded data removed]",
      "text/plain": [
       "<matplotlib.figure.Figure at 0x7fd8fafbb278>"
      ]
     },
     "metadata": {},
     "output_type": "display_data"
    }
   ],
   "source": [
    "G = load_graph_from_tsv(\"datasets/propo.tsv\")\n",
    "draw(G)"
   ]
  },
  {
   "cell_type": "code",
   "execution_count": 11,
   "metadata": {},
   "outputs": [
    {
     "name": "stdout",
     "output_type": "stream",
     "text": [
      "\n",
      "\n",
      "Pearson correlation:\n",
      "             betweenness  closeness    degree      katz  pagerank\n",
      "betweenness     1.000000   0.297399  0.837694  0.818457  0.784467\n",
      "closeness       0.297399   1.000000  0.302620  0.456009  0.106609\n",
      "degree          0.837694   0.302620  1.000000  0.868335  0.955194\n",
      "katz            0.818457   0.456009  0.868335  1.000000  0.773276\n",
      "pagerank        0.784467   0.106609  0.955194  0.773276  1.000000\n",
      "\n",
      "\n",
      "Kendall correlation:\n",
      "             betweenness  closeness    degree      katz  pagerank\n",
      "betweenness     1.000000   0.409058  0.813356  0.548139  0.574502\n",
      "closeness       0.409058   1.000000  0.359753  0.713957 -0.053144\n",
      "degree          0.813356   0.359753  1.000000  0.569681  0.678029\n",
      "katz            0.548139   0.713957  0.569681  1.000000  0.122133\n",
      "pagerank        0.574502  -0.053144  0.678029  0.122133  1.000000\n",
      "\n",
      "\n",
      "Spearman correlation:\n",
      "             betweenness  closeness    degree      katz  pagerank\n",
      "betweenness     1.000000   0.523995  0.897253  0.676930  0.724540\n",
      "closeness       0.523995   1.000000  0.463058  0.880813 -0.015921\n",
      "degree          0.897253   0.463058  1.000000  0.687259  0.794869\n",
      "katz            0.676930   0.880813  0.687259  1.000000  0.246750\n",
      "pagerank        0.724540  -0.015921  0.794869  0.246750  1.000000\n"
     ]
    }
   ],
   "source": [
    "correlation_of_centrality_metrics(G)"
   ]
  },
  {
   "cell_type": "markdown",
   "metadata": {},
   "source": [
    "**b)** Construct an example of a graph where one node has a small degree centrality\n",
    "but a high betweenness centrality."
   ]
  },
  {
   "cell_type": "markdown",
   "metadata": {},
   "source": [
    "**Answer:** One possile approach is to take 2 complete graphs $K_n$, pick one vertice from each and unite them both to a $(2n+1)th$ node. That node will have $\\deg 2$ but betweenness $ 1 - \\frac{2\\binom{n}{2}}{\\binom{2n+1}{2}} = 1 - 2 \\frac{n(n-1)}{2n(2n-1)} = 1 - \\frac{n-1}{2n-1} = \\frac{n}{2n-1}$, which converges to $ \\frac{1}{2} $ as $ n \\rightarrow \\infty $. On the other hand the average degree of a node in this graph goes to infinity as $ n \\rightarrow \\infty $. "
   ]
  },
  {
   "cell_type": "code",
   "execution_count": 12,
   "metadata": {},
   "outputs": [
    {
     "data": {
      "text/html": [
       "<div>\n",
       "<style scoped>\n",
       "    .dataframe tbody tr th:only-of-type {\n",
       "        vertical-align: middle;\n",
       "    }\n",
       "\n",
       "    .dataframe tbody tr th {\n",
       "        vertical-align: top;\n",
       "    }\n",
       "\n",
       "    .dataframe thead th {\n",
       "        text-align: right;\n",
       "    }\n",
       "</style>\n",
       "<table border=\"1\" class=\"dataframe\">\n",
       "  <thead>\n",
       "    <tr style=\"text-align: right;\">\n",
       "      <th>node</th>\n",
       "      <th>1</th>\n",
       "      <th>2</th>\n",
       "      <th>4</th>\n",
       "      <th>5</th>\n",
       "      <th>7</th>\n",
       "      <th>3</th>\n",
       "      <th>6</th>\n",
       "    </tr>\n",
       "  </thead>\n",
       "  <tbody>\n",
       "    <tr>\n",
       "      <th>betweenness</th>\n",
       "      <td>0.0</td>\n",
       "      <td>0.0</td>\n",
       "      <td>0.0</td>\n",
       "      <td>0.0</td>\n",
       "      <td>0.6</td>\n",
       "      <td>0.533333</td>\n",
       "      <td>0.533333</td>\n",
       "    </tr>\n",
       "    <tr>\n",
       "      <th>degree</th>\n",
       "      <td>2.0</td>\n",
       "      <td>2.0</td>\n",
       "      <td>2.0</td>\n",
       "      <td>2.0</td>\n",
       "      <td>2.0</td>\n",
       "      <td>3.000000</td>\n",
       "      <td>3.000000</td>\n",
       "    </tr>\n",
       "  </tbody>\n",
       "</table>\n",
       "</div>"
      ],
      "text/plain": [
       "node           1    2    4    5    7         3         6\n",
       "betweenness  0.0  0.0  0.0  0.0  0.6  0.533333  0.533333\n",
       "degree       2.0  2.0  2.0  2.0  2.0  3.000000  3.000000"
      ]
     },
     "execution_count": 12,
     "metadata": {},
     "output_type": "execute_result"
    },
    {
     "data": {
      "image/png": "[encoded data removed]",
      "text/plain": [
       "<matplotlib.figure.Figure at 0x7fd8f8de3cc0>"
      ]
     },
     "metadata": {},
     "output_type": "display_data"
    }
   ],
   "source": [
    "G = create_undirected_graph([(1,2),(2,3),(1,3),(4,5),(4,6),(5,6),(3,7),(6,7)])\n",
    "draw(G)\n",
    "comparison = pd.DataFrame({'degree':dict(nx.degree(G)),\n",
    "                           'betweenness':nx.betweenness_centrality(G)})\n",
    "comparison.index.name='node'\n",
    "comparison.sort_values(by=['degree','betweenness']).T"
   ]
  },
  {
   "cell_type": "markdown",
   "metadata": {},
   "source": [
    "Node $7$ has $\\deg 2$ but betweeness $\\frac{3}{2(3)-1} = \\frac{3}{5} $, whereas all other nodes have at least $\\deg 2$ and at most betweenness $\\frac{3}{5} $"
   ]
  }
 ],
 "metadata": {
  "kernelspec": {
   "display_name": "Python 3",
   "language": "python",
   "name": "python3"
  },
  "language_info": {
   "codemirror_mode": {
    "name": "ipython",
    "version": 3
   },
   "file_extension": ".py",
   "mimetype": "text/x-python",
   "name": "python",
   "nbconvert_exporter": "python",
   "pygments_lexer": "ipython3",
   "version": "3.6.3"
  }
 },
 "nbformat": 4,
 "nbformat_minor": 2
}
